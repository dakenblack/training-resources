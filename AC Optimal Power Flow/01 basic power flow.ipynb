{
 "cells": [
  {
   "cell_type": "markdown",
   "metadata": {},
   "source": [
    "# Basic Power Flow Analysis and OPF\n",
    "\n",
    "See Section 10.1 of 000421"
   ]
  },
  {
   "cell_type": "code",
   "execution_count": 1,
   "metadata": {},
   "outputs": [],
   "source": [
    "import numpy as np\n",
    "import networkx as nx\n",
    "import pandas as pd"
   ]
  },
  {
   "cell_type": "markdown",
   "metadata": {},
   "source": [
    "## Network creation"
   ]
  },
  {
   "cell_type": "code",
   "execution_count": 2,
   "metadata": {},
   "outputs": [],
   "source": [
    "# Create graph\n",
    "G = nx.DiGraph()\n",
    "\n",
    "# Nodes with max set point and complex demand\n",
    "G.add_node(0,name='slack',smax=10,d=0)\n",
    "G.add_node(1,name='step',smax=0,d=0)\n",
    "G.add_node(2,name='house',smax=0,d=1.2+0.3j)\n",
    "G.add_node(3,name='solar',smax=1,d=0)\n",
    "G.add_node(4,name='building',smax=0,d=2.5+0.9j)\n",
    "G.add_node(5,name='wind',smax=1.5,d=0)\n",
    "\n",
    "# Edges with admittance\n",
    "G.add_edge(0,1,y=1/(0.0075+0.010j),thlim=2)\n",
    "G.add_edge(1,2,y=1/(0.0080+0.011j),thlim=2)\n",
    "G.add_edge(2,3,y=1/(0.0090+0.018j),thlim=2)\n",
    "G.add_edge(1,4,y=1/(0.0040+0.004j),thlim=2)\n",
    "G.add_edge(4,5,y=1/(0.0050+0.006j),thlim=2)"
   ]
  },
  {
   "cell_type": "code",
   "execution_count": 3,
   "metadata": {},
   "outputs": [
    {
     "data": {
      "image/png": "[encoded data removed]",
      "text/plain": [
       "<Figure size 640x480 with 1 Axes>"
      ]
     },
     "metadata": {},
     "output_type": "display_data"
    }
   ],
   "source": [
    "nx.draw(G,with_labels=True,pos=nx.spectral_layout(G))"
   ]
  },
  {
   "cell_type": "markdown",
   "metadata": {},
   "source": [
    "## Fixed Point Algorithm"
   ]
  },
  {
   "cell_type": "markdown",
   "metadata": {},
   "source": [
    "### Admittance matrix"
   ]
  },
  {
   "cell_type": "code",
   "execution_count": 4,
   "metadata": {},
   "outputs": [],
   "source": [
    "A = nx.incidence_matrix(G, oriented=True)\n",
    "Yp = np.diag([G.edges[k][\"y\"] for k in G.edges])\n",
    "Ybus = A @ Yp @ A.T"
   ]
  },
  {
   "cell_type": "code",
   "execution_count": 5,
   "metadata": {},
   "outputs": [
    {
     "name": "stdout",
     "output_type": "stream",
     "text": [
      "[[ 48.         -64.j           0.          +0.j\n",
      "    0.          +0.j           0.          +0.j\n",
      "    0.          +0.j        ]\n",
      " [  0.          +0.j          43.24324324 -59.45945946j\n",
      "    0.          +0.j           0.          +0.j\n",
      "    0.          +0.j        ]\n",
      " [  0.          +0.j           0.          +0.j\n",
      "  125.        -125.j           0.          +0.j\n",
      "    0.          +0.j        ]\n",
      " [  0.          +0.j           0.          +0.j\n",
      "    0.          +0.j          22.22222222 -44.44444444j\n",
      "    0.          +0.j        ]\n",
      " [  0.          +0.j           0.          +0.j\n",
      "    0.          +0.j           0.          +0.j\n",
      "   81.96721311 -98.36065574j]]\n",
      "(5, 5)\n"
     ]
    }
   ],
   "source": [
    "# Admittances on edges?\n",
    "print(Yp)\n",
    "print(Yp.shape)"
   ]
  },
  {
   "cell_type": "code",
   "execution_count": 6,
   "metadata": {},
   "outputs": [
    {
     "name": "stdout",
     "output_type": "stream",
     "text": [
      "  (0, 0)\t-1.0\n",
      "  (1, 0)\t1.0\n",
      "  (1, 1)\t-1.0\n",
      "  (2, 1)\t1.0\n",
      "  (1, 2)\t-1.0\n",
      "  (4, 2)\t1.0\n",
      "  (2, 3)\t-1.0\n",
      "  (3, 3)\t1.0\n",
      "  (4, 4)\t-1.0\n",
      "  (5, 4)\t1.0\n",
      "(6, 5)\n"
     ]
    }
   ],
   "source": [
    "print(A)\n",
    "print(A.shape)"
   ]
  },
  {
   "cell_type": "code",
   "execution_count": 7,
   "metadata": {},
   "outputs": [
    {
     "name": "stdout",
     "output_type": "stream",
     "text": [
      "[[  48.         -64.j          -48.         +64.j\n",
      "     0.          +0.j            0.          +0.j\n",
      "     0.          +0.j            0.          +0.j        ]\n",
      " [ -48.         +64.j          216.24324324-248.45945946j\n",
      "   -43.24324324 +59.45945946j    0.          +0.j\n",
      "  -125.        +125.j            0.          +0.j        ]\n",
      " [   0.          +0.j          -43.24324324 +59.45945946j\n",
      "    65.46546547-103.9039039j   -22.22222222 +44.44444444j\n",
      "     0.          +0.j            0.          +0.j        ]\n",
      " [   0.          +0.j            0.          +0.j\n",
      "   -22.22222222 +44.44444444j   22.22222222 -44.44444444j\n",
      "     0.          +0.j            0.          +0.j        ]\n",
      " [   0.          +0.j         -125.        +125.j\n",
      "     0.          +0.j            0.          +0.j\n",
      "   206.96721311-223.36065574j  -81.96721311 +98.36065574j]\n",
      " [   0.          +0.j            0.          +0.j\n",
      "     0.          +0.j            0.          +0.j\n",
      "   -81.96721311 +98.36065574j   81.96721311 -98.36065574j]]\n"
     ]
    }
   ],
   "source": [
    "print(Ybus)"
   ]
  },
  {
   "cell_type": "code",
   "execution_count": 8,
   "metadata": {},
   "outputs": [
    {
     "name": "stdout",
     "output_type": "stream",
     "text": [
      "[3.55850779e+02 1.53742122e+02 6.95171530e+01 4.52945499e+01\n",
      " 1.13763515e-14 1.64607529e+01]\n"
     ]
    }
   ],
   "source": [
    "# positive semidefinite if has non-negative eigenvalues?\n",
    "# Confirm this\n",
    "print(np.linalg.eigvals(Ybus.real))"
   ]
  },
  {
   "cell_type": "markdown",
   "metadata": {},
   "source": [
    "### Block matrices"
   ]
  },
  {
   "cell_type": "code",
   "execution_count": 9,
   "metadata": {},
   "outputs": [
    {
     "name": "stdout",
     "output_type": "stream",
     "text": [
      "[-48.+64.j   0. +0.j   0. +0.j   0. +0.j   0. +0.j]\n",
      "[[ 216.24324324-248.45945946j  -43.24324324 +59.45945946j\n",
      "     0.          +0.j         -125.        +125.j\n",
      "     0.          +0.j        ]\n",
      " [ -43.24324324 +59.45945946j   65.46546547-103.9039039j\n",
      "   -22.22222222 +44.44444444j    0.          +0.j\n",
      "     0.          +0.j        ]\n",
      " [   0.          +0.j          -22.22222222 +44.44444444j\n",
      "    22.22222222 -44.44444444j    0.          +0.j\n",
      "     0.          +0.j        ]\n",
      " [-125.        +125.j            0.          +0.j\n",
      "     0.          +0.j          206.96721311-223.36065574j\n",
      "   -81.96721311 +98.36065574j]\n",
      " [   0.          +0.j            0.          +0.j\n",
      "     0.          +0.j          -81.96721311 +98.36065574j\n",
      "    81.96721311 -98.36065574j]]\n",
      "[0. +0.j  0. +0.j  1.2+0.3j 0. +0.j  2.5+0.9j 0. +0.j ]\n"
     ]
    }
   ],
   "source": [
    "n = G.number_of_nodes()\n",
    "YN0 = Ybus[1:n,0]\n",
    "YNN = Ybus[1:n,1:n]\n",
    "ZNN = np.linalg.inv(YNN)\n",
    "d = np.array([G.nodes[k]['d'] for k in G.nodes])\n",
    "print(YN0)\n",
    "print(YNN)\n",
    "print(d)"
   ]
  },
  {
   "cell_type": "code",
   "execution_count": 10,
   "metadata": {},
   "outputs": [],
   "source": [
    "def fixed_point(sN, dN):\n",
    "    v0 = 1+0j\n",
    "    vN = np.ones(n-1)*(1+0j)\n",
    "    for t in range(10):\n",
    "        vN = ZNN@(np.conj((sN-dN)/vN)-v0*YN0)\n",
    "        vT = np.hstack([v0,vN]);\n",
    "        sT = vT*np.conj(Ybus@vT)\n",
    "        err = np.linalg.norm(sT[1:n]-(sN-dN))\n",
    "    print('Load Flow, after 10 iterations the error is',err)\n",
    "    return vT"
   ]
  },
  {
   "cell_type": "code",
   "execution_count": 11,
   "metadata": {},
   "outputs": [
    {
     "name": "stdout",
     "output_type": "stream",
     "text": [
      "Load Flow, after 10 iterations the error is 9.83303826452342e-12\n",
      "Loss (0.17318313352728584+0.22089148762914415j)\n",
      "flow (0, 1) 4.125588467764213\n",
      "flow (1, 2) 1.311125926883093\n",
      "flow (1, 4) 2.818560023222717\n",
      "flow (2, 3) 0.0\n",
      "flow (4, 5) 3.553737302566694e-14\n"
     ]
    }
   ],
   "source": [
    "VT = fixed_point(np.zeros(n-1), d[1:n])\n",
    "ST = VT*np.conj(Ybus@VT)\n",
    "pL = sum(ST)\n",
    "print('Loss',pL)\n",
    "for (k,m) in G.edges:\n",
    "    Sf = Ybus[k,m]*(VT[k]-VT[m])\n",
    "    print('flow',(k,m),np.abs(Sf))"
   ]
  },
  {
   "cell_type": "code",
   "execution_count": 12,
   "metadata": {},
   "outputs": [
    {
     "data": {
      "text/html": [
       "<div>\n",
       "<style scoped>\n",
       "    .dataframe tbody tr th:only-of-type {\n",
       "        vertical-align: middle;\n",
       "    }\n",
       "\n",
       "    .dataframe tbody tr th {\n",
       "        vertical-align: top;\n",
       "    }\n",
       "\n",
       "    .dataframe thead th {\n",
       "        text-align: right;\n",
       "    }\n",
       "</style>\n",
       "<table border=\"1\" class=\"dataframe\">\n",
       "  <thead>\n",
       "    <tr style=\"text-align: right;\">\n",
       "      <th></th>\n",
       "      <th>name</th>\n",
       "      <th>vpu</th>\n",
       "      <th>ang</th>\n",
       "      <th>pnode</th>\n",
       "      <th>qnode</th>\n",
       "    </tr>\n",
       "  </thead>\n",
       "  <tbody>\n",
       "    <tr>\n",
       "      <th>0</th>\n",
       "      <td>slack</td>\n",
       "      <td>1.000000</td>\n",
       "      <td>0.000000</td>\n",
       "      <td>3.8732</td>\n",
       "      <td>1.4209</td>\n",
       "    </tr>\n",
       "    <tr>\n",
       "      <th>1</th>\n",
       "      <td>step</td>\n",
       "      <td>0.957154</td>\n",
       "      <td>-1.680835</td>\n",
       "      <td>-0.0000</td>\n",
       "      <td>0.0000</td>\n",
       "    </tr>\n",
       "    <tr>\n",
       "      <th>2</th>\n",
       "      <td>house</td>\n",
       "      <td>0.943412</td>\n",
       "      <td>-2.366124</td>\n",
       "      <td>-1.2000</td>\n",
       "      <td>-0.3000</td>\n",
       "    </tr>\n",
       "    <tr>\n",
       "      <th>3</th>\n",
       "      <td>solar</td>\n",
       "      <td>0.943412</td>\n",
       "      <td>-2.366124</td>\n",
       "      <td>0.0000</td>\n",
       "      <td>-0.0000</td>\n",
       "    </tr>\n",
       "    <tr>\n",
       "      <th>4</th>\n",
       "      <td>building</td>\n",
       "      <td>0.942703</td>\n",
       "      <td>-2.087231</td>\n",
       "      <td>-2.5000</td>\n",
       "      <td>-0.9000</td>\n",
       "    </tr>\n",
       "    <tr>\n",
       "      <th>5</th>\n",
       "      <td>wind</td>\n",
       "      <td>0.942703</td>\n",
       "      <td>-2.087231</td>\n",
       "      <td>-0.0000</td>\n",
       "      <td>-0.0000</td>\n",
       "    </tr>\n",
       "  </tbody>\n",
       "</table>\n",
       "</div>"
      ],
      "text/plain": [
       "       name       vpu       ang   pnode   qnode\n",
       "0     slack  1.000000  0.000000  3.8732  1.4209\n",
       "1      step  0.957154 -1.680835 -0.0000  0.0000\n",
       "2     house  0.943412 -2.366124 -1.2000 -0.3000\n",
       "3     solar  0.943412 -2.366124  0.0000 -0.0000\n",
       "4  building  0.942703 -2.087231 -2.5000 -0.9000\n",
       "5      wind  0.942703 -2.087231 -0.0000 -0.0000"
      ]
     },
     "execution_count": 12,
     "metadata": {},
     "output_type": "execute_result"
    }
   ],
   "source": [
    "results = pd.DataFrame()\n",
    "results['name'] = [G.nodes[k]['name'] for k in G.nodes]\n",
    "results['vpu'] = np.abs(VT)\n",
    "results['ang'] = np.angle(VT)*180/np.pi\n",
    "results['pnode'] = np.round(ST.real,4)\n",
    "results['qnode'] = np.round(ST.imag,4)\n",
    "results"
   ]
  },
  {
   "cell_type": "markdown",
   "metadata": {},
   "source": [
    "## Symbolic"
   ]
  },
  {
   "cell_type": "code",
   "execution_count": 115,
   "metadata": {},
   "outputs": [],
   "source": [
    "import sympy as sp\n",
    "from scipy import optimize as opt\n",
    "import numpy.linalg as la"
   ]
  },
  {
   "cell_type": "code",
   "execution_count": 116,
   "metadata": {},
   "outputs": [],
   "source": [
    "def newton_raphson(f, df, x0, verbose=False, niter=10):\n",
    "    y = x0\n",
    "\n",
    "    fval = f(*y)\n",
    "    if verbose:\n",
    "        print(f'Iteration {0}: norm: {la.norm(fval)}')\n",
    "        \n",
    "    for i in range(niter):\n",
    "        inc = (la.inv(df(*y)) @ fval).reshape(-1)\n",
    "        y = y - inc\n",
    "        fval = f(*y)\n",
    "        if verbose:\n",
    "            print(f'Iteration {i+1}: norm: {la.norm(fval)}')\n",
    "\n",
    "    return y"
   ]
  },
  {
   "cell_type": "code",
   "execution_count": 117,
   "metadata": {},
   "outputs": [],
   "source": [
    "Gbus = np.real(Ybus)\n",
    "Bbus = np.imag(Ybus)"
   ]
  },
  {
   "cell_type": "code",
   "execution_count": 118,
   "metadata": {},
   "outputs": [],
   "source": [
    "n = Ybus.shape[0] # 6"
   ]
  },
  {
   "cell_type": "code",
   "execution_count": 119,
   "metadata": {},
   "outputs": [],
   "source": [
    "P = []\n",
    "Q = []\n",
    "V = []\n",
    "theta = []\n",
    "\n",
    "for i in range(n):\n",
    "    P.append(sp.Symbol('P'+str(i)))\n",
    "    Q.append(sp.Symbol('Q'+str(i)))\n",
    "    V.append(sp.Symbol('V'+str(i)))\n",
    "    theta.append(sp.Symbol('theta'+str(i)))\n",
    "\n",
    "B = []\n",
    "G = []\n",
    "for i in range(n):\n",
    "    B.append([])\n",
    "    G.append([])\n",
    "    for j in range(n):\n",
    "        B[i].append(sp.Symbol('B'+str(i)+str(j)))\n",
    "        G[i].append(sp.Symbol('G'+str(i)+str(j)))"
   ]
  },
  {
   "cell_type": "code",
   "execution_count": 120,
   "metadata": {},
   "outputs": [
    {
     "data": {
      "text/plain": [
       "[theta1, theta2, theta3, theta4, theta5, V1, V2, V3, V4, V5]"
      ]
     },
     "execution_count": 120,
     "metadata": {},
     "output_type": "execute_result"
    }
   ],
   "source": [
    "# Including Slack bus\n",
    "# x = [P[0], Q[0]] + theta[1:] + V[1:]\n",
    "\n",
    "# Basic power flow equations\n",
    "x = theta[1:] + V[1:]\n",
    "x\n"
   ]
  },
  {
   "cell_type": "code",
   "execution_count": 121,
   "metadata": {},
   "outputs": [
    {
     "data": {
      "text/plain": [
       "([V0, theta0, P1, P2, P3, P4, P5, Q1, Q2, Q3, Q4, Q5],\n",
       " [1, 0, -0.0, -1.2, -0.0, -2.5, -0.0, -0.0, -0.3, -0.0, -0.9, -0.0])"
      ]
     },
     "execution_count": 121,
     "metadata": {},
     "output_type": "execute_result"
    }
   ],
   "source": [
    "param = [V[0], theta[0]] + P[1:] + Q[1:]\n",
    "param_values = [1, 0, ] + (-np.real(d[1:])).tolist() + (-np.imag(d[1:])).tolist()\n",
    "param, param_values"
   ]
  },
  {
   "cell_type": "code",
   "execution_count": 122,
   "metadata": {},
   "outputs": [],
   "source": [
    "def p_k(k):\n",
    "    return sum([V[k] * V[j] * (G[k][j] * sp.cos(theta[k] - theta[j]) + B[k][j] * sp.sin(theta[k] - theta[j])) for j in range(n)])\n",
    "\n",
    "def q_k(k):\n",
    "    return sum([V[k] * V[j] * (G[k][j] * sp.sin(theta[k] - theta[j]) - B[k][j] * sp.cos(theta[k] - theta[j])) for j in range(n)])\n",
    "\n",
    "# Basic power flow equations\n",
    "# f = sp.Matrix([p_k(i) - P[i]  for i in range(1, n)] + [q_k(i) - Q[i]  for i in range(1, n)])\n",
    "# g = P[1:] + Q[1:]\n",
    "\n",
    "# With slack bus\n",
    "f = sp.Matrix([p_k(i) - P[i]  for i in range(n)] + [q_k(i) - Q[i]  for i in range(n)])\n",
    "g = P + Q\n",
    "\n",
    "\n",
    "p = sp.Matrix([p_k(i) for i in range(n)])\n",
    "q = sp.Matrix([q_k(i) for i in range(n)])"
   ]
  },
  {
   "cell_type": "code",
   "execution_count": 127,
   "metadata": {},
   "outputs": [
    {
     "data": {
      "text/latex": [
       "$\\displaystyle G_{00} V_{0}^{2} + V_{0} V_{1} \\left(B_{01} \\sin{\\left(\\theta_{0} - \\theta_{1} \\right)} + G_{01} \\cos{\\left(\\theta_{0} - \\theta_{1} \\right)}\\right) + V_{0} V_{2} \\left(B_{02} \\sin{\\left(\\theta_{0} - \\theta_{2} \\right)} + G_{02} \\cos{\\left(\\theta_{0} - \\theta_{2} \\right)}\\right) + V_{0} V_{3} \\left(B_{03} \\sin{\\left(\\theta_{0} - \\theta_{3} \\right)} + G_{03} \\cos{\\left(\\theta_{0} - \\theta_{3} \\right)}\\right) + V_{0} V_{4} \\left(B_{04} \\sin{\\left(\\theta_{0} - \\theta_{4} \\right)} + G_{04} \\cos{\\left(\\theta_{0} - \\theta_{4} \\right)}\\right) + V_{0} V_{5} \\left(B_{05} \\sin{\\left(\\theta_{0} - \\theta_{5} \\right)} + G_{05} \\cos{\\left(\\theta_{0} - \\theta_{5} \\right)}\\right)$"
      ],
      "text/plain": [
       "G00*V0**2 + V0*V1*(B01*sin(theta0 - theta1) + G01*cos(theta0 - theta1)) + V0*V2*(B02*sin(theta0 - theta2) + G02*cos(theta0 - theta2)) + V0*V3*(B03*sin(theta0 - theta3) + G03*cos(theta0 - theta3)) + V0*V4*(B04*sin(theta0 - theta4) + G04*cos(theta0 - theta4)) + V0*V5*(B05*sin(theta0 - theta5) + G05*cos(theta0 - theta5))"
      ]
     },
     "execution_count": 127,
     "metadata": {},
     "output_type": "execute_result"
    }
   ],
   "source": [
    "p_k(0)"
   ]
  },
  {
   "cell_type": "code",
   "execution_count": 126,
   "metadata": {},
   "outputs": [
    {
     "data": {
      "text/latex": [
       "$\\displaystyle 0$"
      ],
      "text/plain": [
       "0"
      ]
     },
     "execution_count": 126,
     "metadata": {},
     "output_type": "execute_result"
    }
   ],
   "source": [
    "sp.diff(p_k(0), P[1])"
   ]
  },
  {
   "cell_type": "code",
   "execution_count": 96,
   "metadata": {},
   "outputs": [],
   "source": [
    "f = f.subs(zip(param, param_values))\n",
    "f = f.subs(zip([B[i][j] for i in range(n) for j in range(n)], [Bbus[i, j] for i in range(n) for j in range(n)]))\n",
    "f = f.subs(zip([G[i][j] for i in range(n) for j in range(n)], [Gbus[i, j] for i in range(n) for j in range(n)]))\n",
    "\n",
    "p = p.subs(zip(param, param_values))\n",
    "p = p.subs(zip([B[i][j] for i in range(n) for j in range(n)], [Bbus[i, j] for i in range(n) for j in range(n)]))\n",
    "p = p.subs(zip([G[i][j] for i in range(n) for j in range(n)], [Gbus[i, j] for i in range(n) for j in range(n)]))\n",
    "\n",
    "q = q.subs(zip(param, param_values))\n",
    "q = q.subs(zip([B[i][j] for i in range(n) for j in range(n)], [Bbus[i, j] for i in range(n) for j in range(n)]))\n",
    "q = q.subs(zip([G[i][j] for i in range(n) for j in range(n)], [Gbus[i, j] for i in range(n) for j in range(n)]))"
   ]
  },
  {
   "cell_type": "code",
   "execution_count": 97,
   "metadata": {},
   "outputs": [
    {
     "data": {
      "text/latex": [
       "$\\displaystyle \\left[\\begin{matrix}- P_{0} + V_{1} \\left(- 64.0 \\sin{\\left(\\theta_{1} \\right)} - 48.0 \\cos{\\left(\\theta_{1} \\right)}\\right) + 48.0\\\\216.243243243243 V_{1}^{2} + V_{1} V_{2} \\cdot \\left(59.4594594594595 \\sin{\\left(\\theta_{1} - \\theta_{2} \\right)} - 43.2432432432432 \\cos{\\left(\\theta_{1} - \\theta_{2} \\right)}\\right) + V_{1} V_{4} \\cdot \\left(125.0 \\sin{\\left(\\theta_{1} - \\theta_{4} \\right)} - 125.0 \\cos{\\left(\\theta_{1} - \\theta_{4} \\right)}\\right) + V_{1} \\cdot \\left(64.0 \\sin{\\left(\\theta_{1} \\right)} - 48.0 \\cos{\\left(\\theta_{1} \\right)}\\right)\\\\V_{1} V_{2} \\left(- 59.4594594594595 \\sin{\\left(\\theta_{1} - \\theta_{2} \\right)} - 43.2432432432432 \\cos{\\left(\\theta_{1} - \\theta_{2} \\right)}\\right) + 65.4654654654655 V_{2}^{2} + V_{2} V_{3} \\cdot \\left(44.4444444444444 \\sin{\\left(\\theta_{2} - \\theta_{3} \\right)} - 22.2222222222222 \\cos{\\left(\\theta_{2} - \\theta_{3} \\right)}\\right) + 1.2\\\\V_{2} V_{3} \\left(- 44.4444444444444 \\sin{\\left(\\theta_{2} - \\theta_{3} \\right)} - 22.2222222222222 \\cos{\\left(\\theta_{2} - \\theta_{3} \\right)}\\right) + 22.2222222222222 V_{3}^{2}\\\\V_{1} V_{4} \\left(- 125.0 \\sin{\\left(\\theta_{1} - \\theta_{4} \\right)} - 125.0 \\cos{\\left(\\theta_{1} - \\theta_{4} \\right)}\\right) + 206.967213114754 V_{4}^{2} + V_{4} V_{5} \\cdot \\left(98.3606557377049 \\sin{\\left(\\theta_{4} - \\theta_{5} \\right)} - 81.9672131147541 \\cos{\\left(\\theta_{4} - \\theta_{5} \\right)}\\right) + 2.5\\\\V_{4} V_{5} \\left(- 98.3606557377049 \\sin{\\left(\\theta_{4} - \\theta_{5} \\right)} - 81.9672131147541 \\cos{\\left(\\theta_{4} - \\theta_{5} \\right)}\\right) + 81.9672131147541 V_{5}^{2}\\\\- Q_{0} + V_{1} \\cdot \\left(48.0 \\sin{\\left(\\theta_{1} \\right)} - 64.0 \\cos{\\left(\\theta_{1} \\right)}\\right) + 64.0\\\\248.459459459459 V_{1}^{2} + V_{1} V_{2} \\left(- 43.2432432432432 \\sin{\\left(\\theta_{1} - \\theta_{2} \\right)} - 59.4594594594595 \\cos{\\left(\\theta_{1} - \\theta_{2} \\right)}\\right) + V_{1} V_{4} \\left(- 125.0 \\sin{\\left(\\theta_{1} - \\theta_{4} \\right)} - 125.0 \\cos{\\left(\\theta_{1} - \\theta_{4} \\right)}\\right) + V_{1} \\left(- 48.0 \\sin{\\left(\\theta_{1} \\right)} - 64.0 \\cos{\\left(\\theta_{1} \\right)}\\right)\\\\V_{1} V_{2} \\cdot \\left(43.2432432432432 \\sin{\\left(\\theta_{1} - \\theta_{2} \\right)} - 59.4594594594595 \\cos{\\left(\\theta_{1} - \\theta_{2} \\right)}\\right) + 103.903903903904 V_{2}^{2} + V_{2} V_{3} \\left(- 22.2222222222222 \\sin{\\left(\\theta_{2} - \\theta_{3} \\right)} - 44.4444444444444 \\cos{\\left(\\theta_{2} - \\theta_{3} \\right)}\\right) + 0.3\\\\V_{2} V_{3} \\cdot \\left(22.2222222222222 \\sin{\\left(\\theta_{2} - \\theta_{3} \\right)} - 44.4444444444444 \\cos{\\left(\\theta_{2} - \\theta_{3} \\right)}\\right) + 44.4444444444444 V_{3}^{2}\\\\V_{1} V_{4} \\cdot \\left(125.0 \\sin{\\left(\\theta_{1} - \\theta_{4} \\right)} - 125.0 \\cos{\\left(\\theta_{1} - \\theta_{4} \\right)}\\right) + 223.360655737705 V_{4}^{2} + V_{4} V_{5} \\left(- 81.9672131147541 \\sin{\\left(\\theta_{4} - \\theta_{5} \\right)} - 98.3606557377049 \\cos{\\left(\\theta_{4} - \\theta_{5} \\right)}\\right) + 0.9\\\\V_{4} V_{5} \\cdot \\left(81.9672131147541 \\sin{\\left(\\theta_{4} - \\theta_{5} \\right)} - 98.3606557377049 \\cos{\\left(\\theta_{4} - \\theta_{5} \\right)}\\right) + 98.3606557377049 V_{5}^{2}\\end{matrix}\\right]$"
      ],
      "text/plain": [
       "Matrix([\n",
       "[                                                                                                                                                                        -P0 + V1*(-64.0*sin(theta1) - 48.0*cos(theta1)) + 48.0],\n",
       "[   216.243243243243*V1**2 + V1*V2*(59.4594594594595*sin(theta1 - theta2) - 43.2432432432432*cos(theta1 - theta2)) + V1*V4*(125.0*sin(theta1 - theta4) - 125.0*cos(theta1 - theta4)) + V1*(64.0*sin(theta1) - 48.0*cos(theta1))],\n",
       "[                 V1*V2*(-59.4594594594595*sin(theta1 - theta2) - 43.2432432432432*cos(theta1 - theta2)) + 65.4654654654655*V2**2 + V2*V3*(44.4444444444444*sin(theta2 - theta3) - 22.2222222222222*cos(theta2 - theta3)) + 1.2],\n",
       "[                                                                                                               V2*V3*(-44.4444444444444*sin(theta2 - theta3) - 22.2222222222222*cos(theta2 - theta3)) + 22.2222222222222*V3**2],\n",
       "[                                       V1*V4*(-125.0*sin(theta1 - theta4) - 125.0*cos(theta1 - theta4)) + 206.967213114754*V4**2 + V4*V5*(98.3606557377049*sin(theta4 - theta5) - 81.9672131147541*cos(theta4 - theta5)) + 2.5],\n",
       "[                                                                                                               V4*V5*(-98.3606557377049*sin(theta4 - theta5) - 81.9672131147541*cos(theta4 - theta5)) + 81.9672131147541*V5**2],\n",
       "[                                                                                                                                                                         -Q0 + V1*(48.0*sin(theta1) - 64.0*cos(theta1)) + 64.0],\n",
       "[248.459459459459*V1**2 + V1*V2*(-43.2432432432432*sin(theta1 - theta2) - 59.4594594594595*cos(theta1 - theta2)) + V1*V4*(-125.0*sin(theta1 - theta4) - 125.0*cos(theta1 - theta4)) + V1*(-48.0*sin(theta1) - 64.0*cos(theta1))],\n",
       "[                 V1*V2*(43.2432432432432*sin(theta1 - theta2) - 59.4594594594595*cos(theta1 - theta2)) + 103.903903903904*V2**2 + V2*V3*(-22.2222222222222*sin(theta2 - theta3) - 44.4444444444444*cos(theta2 - theta3)) + 0.3],\n",
       "[                                                                                                                V2*V3*(22.2222222222222*sin(theta2 - theta3) - 44.4444444444444*cos(theta2 - theta3)) + 44.4444444444444*V3**2],\n",
       "[                                       V1*V4*(125.0*sin(theta1 - theta4) - 125.0*cos(theta1 - theta4)) + 223.360655737705*V4**2 + V4*V5*(-81.9672131147541*sin(theta4 - theta5) - 98.3606557377049*cos(theta4 - theta5)) + 0.9],\n",
       "[                                                                                                                V4*V5*(81.9672131147541*sin(theta4 - theta5) - 98.3606557377049*cos(theta4 - theta5)) + 98.3606557377049*V5**2]])"
      ]
     },
     "execution_count": 97,
     "metadata": {},
     "output_type": "execute_result"
    }
   ],
   "source": [
    "f"
   ]
  },
  {
   "cell_type": "code",
   "execution_count": 98,
   "metadata": {},
   "outputs": [],
   "source": [
    "# These are alighned with the expresssions from 4.46 and 4.47 in 000505\n",
    "df = f.jacobian(x)"
   ]
  },
  {
   "cell_type": "code",
   "execution_count": 99,
   "metadata": {},
   "outputs": [
    {
     "data": {
      "text/latex": [
       "$\\displaystyle \\left[\\begin{array}{cccccccccccc}-1 & 0 & V_{1} \\cdot \\left(48.0 \\sin{\\left(\\theta_{1} \\right)} - 64.0 \\cos{\\left(\\theta_{1} \\right)}\\right) & 0 & 0 & 0 & 0 & - 64.0 \\sin{\\left(\\theta_{1} \\right)} - 48.0 \\cos{\\left(\\theta_{1} \\right)} & 0 & 0 & 0 & 0\\\\0 & 0 & V_{1} V_{2} \\cdot \\left(43.2432432432432 \\sin{\\left(\\theta_{1} - \\theta_{2} \\right)} + 59.4594594594595 \\cos{\\left(\\theta_{1} - \\theta_{2} \\right)}\\right) + V_{1} V_{4} \\cdot \\left(125.0 \\sin{\\left(\\theta_{1} - \\theta_{4} \\right)} + 125.0 \\cos{\\left(\\theta_{1} - \\theta_{4} \\right)}\\right) + V_{1} \\cdot \\left(48.0 \\sin{\\left(\\theta_{1} \\right)} + 64.0 \\cos{\\left(\\theta_{1} \\right)}\\right) & V_{1} V_{2} \\left(- 43.2432432432432 \\sin{\\left(\\theta_{1} - \\theta_{2} \\right)} - 59.4594594594595 \\cos{\\left(\\theta_{1} - \\theta_{2} \\right)}\\right) & 0 & V_{1} V_{4} \\left(- 125.0 \\sin{\\left(\\theta_{1} - \\theta_{4} \\right)} - 125.0 \\cos{\\left(\\theta_{1} - \\theta_{4} \\right)}\\right) & 0 & 432.486486486486 V_{1} + V_{2} \\cdot \\left(59.4594594594595 \\sin{\\left(\\theta_{1} - \\theta_{2} \\right)} - 43.2432432432432 \\cos{\\left(\\theta_{1} - \\theta_{2} \\right)}\\right) + V_{4} \\cdot \\left(125.0 \\sin{\\left(\\theta_{1} - \\theta_{4} \\right)} - 125.0 \\cos{\\left(\\theta_{1} - \\theta_{4} \\right)}\\right) + 64.0 \\sin{\\left(\\theta_{1} \\right)} - 48.0 \\cos{\\left(\\theta_{1} \\right)} & V_{1} \\cdot \\left(59.4594594594595 \\sin{\\left(\\theta_{1} - \\theta_{2} \\right)} - 43.2432432432432 \\cos{\\left(\\theta_{1} - \\theta_{2} \\right)}\\right) & 0 & V_{1} \\cdot \\left(125.0 \\sin{\\left(\\theta_{1} - \\theta_{4} \\right)} - 125.0 \\cos{\\left(\\theta_{1} - \\theta_{4} \\right)}\\right) & 0\\\\0 & 0 & V_{1} V_{2} \\cdot \\left(43.2432432432432 \\sin{\\left(\\theta_{1} - \\theta_{2} \\right)} - 59.4594594594595 \\cos{\\left(\\theta_{1} - \\theta_{2} \\right)}\\right) & V_{1} V_{2} \\left(- 43.2432432432432 \\sin{\\left(\\theta_{1} - \\theta_{2} \\right)} + 59.4594594594595 \\cos{\\left(\\theta_{1} - \\theta_{2} \\right)}\\right) + V_{2} V_{3} \\cdot \\left(22.2222222222222 \\sin{\\left(\\theta_{2} - \\theta_{3} \\right)} + 44.4444444444444 \\cos{\\left(\\theta_{2} - \\theta_{3} \\right)}\\right) & V_{2} V_{3} \\left(- 22.2222222222222 \\sin{\\left(\\theta_{2} - \\theta_{3} \\right)} - 44.4444444444444 \\cos{\\left(\\theta_{2} - \\theta_{3} \\right)}\\right) & 0 & 0 & V_{2} \\left(- 59.4594594594595 \\sin{\\left(\\theta_{1} - \\theta_{2} \\right)} - 43.2432432432432 \\cos{\\left(\\theta_{1} - \\theta_{2} \\right)}\\right) & V_{1} \\left(- 59.4594594594595 \\sin{\\left(\\theta_{1} - \\theta_{2} \\right)} - 43.2432432432432 \\cos{\\left(\\theta_{1} - \\theta_{2} \\right)}\\right) + 130.930930930931 V_{2} + V_{3} \\cdot \\left(44.4444444444444 \\sin{\\left(\\theta_{2} - \\theta_{3} \\right)} - 22.2222222222222 \\cos{\\left(\\theta_{2} - \\theta_{3} \\right)}\\right) & V_{2} \\cdot \\left(44.4444444444444 \\sin{\\left(\\theta_{2} - \\theta_{3} \\right)} - 22.2222222222222 \\cos{\\left(\\theta_{2} - \\theta_{3} \\right)}\\right) & 0 & 0\\\\0 & 0 & 0 & V_{2} V_{3} \\cdot \\left(22.2222222222222 \\sin{\\left(\\theta_{2} - \\theta_{3} \\right)} - 44.4444444444444 \\cos{\\left(\\theta_{2} - \\theta_{3} \\right)}\\right) & V_{2} V_{3} \\left(- 22.2222222222222 \\sin{\\left(\\theta_{2} - \\theta_{3} \\right)} + 44.4444444444444 \\cos{\\left(\\theta_{2} - \\theta_{3} \\right)}\\right) & 0 & 0 & 0 & V_{3} \\left(- 44.4444444444444 \\sin{\\left(\\theta_{2} - \\theta_{3} \\right)} - 22.2222222222222 \\cos{\\left(\\theta_{2} - \\theta_{3} \\right)}\\right) & V_{2} \\left(- 44.4444444444444 \\sin{\\left(\\theta_{2} - \\theta_{3} \\right)} - 22.2222222222222 \\cos{\\left(\\theta_{2} - \\theta_{3} \\right)}\\right) + 44.4444444444444 V_{3} & 0 & 0\\\\0 & 0 & V_{1} V_{4} \\cdot \\left(125.0 \\sin{\\left(\\theta_{1} - \\theta_{4} \\right)} - 125.0 \\cos{\\left(\\theta_{1} - \\theta_{4} \\right)}\\right) & 0 & 0 & V_{1} V_{4} \\left(- 125.0 \\sin{\\left(\\theta_{1} - \\theta_{4} \\right)} + 125.0 \\cos{\\left(\\theta_{1} - \\theta_{4} \\right)}\\right) + V_{4} V_{5} \\cdot \\left(81.9672131147541 \\sin{\\left(\\theta_{4} - \\theta_{5} \\right)} + 98.3606557377049 \\cos{\\left(\\theta_{4} - \\theta_{5} \\right)}\\right) & V_{4} V_{5} \\left(- 81.9672131147541 \\sin{\\left(\\theta_{4} - \\theta_{5} \\right)} - 98.3606557377049 \\cos{\\left(\\theta_{4} - \\theta_{5} \\right)}\\right) & V_{4} \\left(- 125.0 \\sin{\\left(\\theta_{1} - \\theta_{4} \\right)} - 125.0 \\cos{\\left(\\theta_{1} - \\theta_{4} \\right)}\\right) & 0 & 0 & V_{1} \\left(- 125.0 \\sin{\\left(\\theta_{1} - \\theta_{4} \\right)} - 125.0 \\cos{\\left(\\theta_{1} - \\theta_{4} \\right)}\\right) + 413.934426229508 V_{4} + V_{5} \\cdot \\left(98.3606557377049 \\sin{\\left(\\theta_{4} - \\theta_{5} \\right)} - 81.9672131147541 \\cos{\\left(\\theta_{4} - \\theta_{5} \\right)}\\right) & V_{4} \\cdot \\left(98.3606557377049 \\sin{\\left(\\theta_{4} - \\theta_{5} \\right)} - 81.9672131147541 \\cos{\\left(\\theta_{4} - \\theta_{5} \\right)}\\right)\\\\0 & 0 & 0 & 0 & 0 & V_{4} V_{5} \\cdot \\left(81.9672131147541 \\sin{\\left(\\theta_{4} - \\theta_{5} \\right)} - 98.3606557377049 \\cos{\\left(\\theta_{4} - \\theta_{5} \\right)}\\right) & V_{4} V_{5} \\left(- 81.9672131147541 \\sin{\\left(\\theta_{4} - \\theta_{5} \\right)} + 98.3606557377049 \\cos{\\left(\\theta_{4} - \\theta_{5} \\right)}\\right) & 0 & 0 & 0 & V_{5} \\left(- 98.3606557377049 \\sin{\\left(\\theta_{4} - \\theta_{5} \\right)} - 81.9672131147541 \\cos{\\left(\\theta_{4} - \\theta_{5} \\right)}\\right) & V_{4} \\left(- 98.3606557377049 \\sin{\\left(\\theta_{4} - \\theta_{5} \\right)} - 81.9672131147541 \\cos{\\left(\\theta_{4} - \\theta_{5} \\right)}\\right) + 163.934426229508 V_{5}\\\\0 & -1 & V_{1} \\cdot \\left(64.0 \\sin{\\left(\\theta_{1} \\right)} + 48.0 \\cos{\\left(\\theta_{1} \\right)}\\right) & 0 & 0 & 0 & 0 & 48.0 \\sin{\\left(\\theta_{1} \\right)} - 64.0 \\cos{\\left(\\theta_{1} \\right)} & 0 & 0 & 0 & 0\\\\0 & 0 & V_{1} V_{2} \\cdot \\left(59.4594594594595 \\sin{\\left(\\theta_{1} - \\theta_{2} \\right)} - 43.2432432432432 \\cos{\\left(\\theta_{1} - \\theta_{2} \\right)}\\right) + V_{1} V_{4} \\cdot \\left(125.0 \\sin{\\left(\\theta_{1} - \\theta_{4} \\right)} - 125.0 \\cos{\\left(\\theta_{1} - \\theta_{4} \\right)}\\right) + V_{1} \\cdot \\left(64.0 \\sin{\\left(\\theta_{1} \\right)} - 48.0 \\cos{\\left(\\theta_{1} \\right)}\\right) & V_{1} V_{2} \\left(- 59.4594594594595 \\sin{\\left(\\theta_{1} - \\theta_{2} \\right)} + 43.2432432432432 \\cos{\\left(\\theta_{1} - \\theta_{2} \\right)}\\right) & 0 & V_{1} V_{4} \\left(- 125.0 \\sin{\\left(\\theta_{1} - \\theta_{4} \\right)} + 125.0 \\cos{\\left(\\theta_{1} - \\theta_{4} \\right)}\\right) & 0 & 496.918918918919 V_{1} + V_{2} \\left(- 43.2432432432432 \\sin{\\left(\\theta_{1} - \\theta_{2} \\right)} - 59.4594594594595 \\cos{\\left(\\theta_{1} - \\theta_{2} \\right)}\\right) + V_{4} \\left(- 125.0 \\sin{\\left(\\theta_{1} - \\theta_{4} \\right)} - 125.0 \\cos{\\left(\\theta_{1} - \\theta_{4} \\right)}\\right) - 48.0 \\sin{\\left(\\theta_{1} \\right)} - 64.0 \\cos{\\left(\\theta_{1} \\right)} & V_{1} \\left(- 43.2432432432432 \\sin{\\left(\\theta_{1} - \\theta_{2} \\right)} - 59.4594594594595 \\cos{\\left(\\theta_{1} - \\theta_{2} \\right)}\\right) & 0 & V_{1} \\left(- 125.0 \\sin{\\left(\\theta_{1} - \\theta_{4} \\right)} - 125.0 \\cos{\\left(\\theta_{1} - \\theta_{4} \\right)}\\right) & 0\\\\0 & 0 & V_{1} V_{2} \\cdot \\left(59.4594594594595 \\sin{\\left(\\theta_{1} - \\theta_{2} \\right)} + 43.2432432432432 \\cos{\\left(\\theta_{1} - \\theta_{2} \\right)}\\right) & V_{1} V_{2} \\left(- 59.4594594594595 \\sin{\\left(\\theta_{1} - \\theta_{2} \\right)} - 43.2432432432432 \\cos{\\left(\\theta_{1} - \\theta_{2} \\right)}\\right) + V_{2} V_{3} \\cdot \\left(44.4444444444444 \\sin{\\left(\\theta_{2} - \\theta_{3} \\right)} - 22.2222222222222 \\cos{\\left(\\theta_{2} - \\theta_{3} \\right)}\\right) & V_{2} V_{3} \\left(- 44.4444444444444 \\sin{\\left(\\theta_{2} - \\theta_{3} \\right)} + 22.2222222222222 \\cos{\\left(\\theta_{2} - \\theta_{3} \\right)}\\right) & 0 & 0 & V_{2} \\cdot \\left(43.2432432432432 \\sin{\\left(\\theta_{1} - \\theta_{2} \\right)} - 59.4594594594595 \\cos{\\left(\\theta_{1} - \\theta_{2} \\right)}\\right) & V_{1} \\cdot \\left(43.2432432432432 \\sin{\\left(\\theta_{1} - \\theta_{2} \\right)} - 59.4594594594595 \\cos{\\left(\\theta_{1} - \\theta_{2} \\right)}\\right) + 207.807807807808 V_{2} + V_{3} \\left(- 22.2222222222222 \\sin{\\left(\\theta_{2} - \\theta_{3} \\right)} - 44.4444444444444 \\cos{\\left(\\theta_{2} - \\theta_{3} \\right)}\\right) & V_{2} \\left(- 22.2222222222222 \\sin{\\left(\\theta_{2} - \\theta_{3} \\right)} - 44.4444444444444 \\cos{\\left(\\theta_{2} - \\theta_{3} \\right)}\\right) & 0 & 0\\\\0 & 0 & 0 & V_{2} V_{3} \\cdot \\left(44.4444444444444 \\sin{\\left(\\theta_{2} - \\theta_{3} \\right)} + 22.2222222222222 \\cos{\\left(\\theta_{2} - \\theta_{3} \\right)}\\right) & V_{2} V_{3} \\left(- 44.4444444444444 \\sin{\\left(\\theta_{2} - \\theta_{3} \\right)} - 22.2222222222222 \\cos{\\left(\\theta_{2} - \\theta_{3} \\right)}\\right) & 0 & 0 & 0 & V_{3} \\cdot \\left(22.2222222222222 \\sin{\\left(\\theta_{2} - \\theta_{3} \\right)} - 44.4444444444444 \\cos{\\left(\\theta_{2} - \\theta_{3} \\right)}\\right) & V_{2} \\cdot \\left(22.2222222222222 \\sin{\\left(\\theta_{2} - \\theta_{3} \\right)} - 44.4444444444444 \\cos{\\left(\\theta_{2} - \\theta_{3} \\right)}\\right) + 88.8888888888889 V_{3} & 0 & 0\\\\0 & 0 & V_{1} V_{4} \\cdot \\left(125.0 \\sin{\\left(\\theta_{1} - \\theta_{4} \\right)} + 125.0 \\cos{\\left(\\theta_{1} - \\theta_{4} \\right)}\\right) & 0 & 0 & V_{1} V_{4} \\left(- 125.0 \\sin{\\left(\\theta_{1} - \\theta_{4} \\right)} - 125.0 \\cos{\\left(\\theta_{1} - \\theta_{4} \\right)}\\right) + V_{4} V_{5} \\cdot \\left(98.3606557377049 \\sin{\\left(\\theta_{4} - \\theta_{5} \\right)} - 81.9672131147541 \\cos{\\left(\\theta_{4} - \\theta_{5} \\right)}\\right) & V_{4} V_{5} \\left(- 98.3606557377049 \\sin{\\left(\\theta_{4} - \\theta_{5} \\right)} + 81.9672131147541 \\cos{\\left(\\theta_{4} - \\theta_{5} \\right)}\\right) & V_{4} \\cdot \\left(125.0 \\sin{\\left(\\theta_{1} - \\theta_{4} \\right)} - 125.0 \\cos{\\left(\\theta_{1} - \\theta_{4} \\right)}\\right) & 0 & 0 & V_{1} \\cdot \\left(125.0 \\sin{\\left(\\theta_{1} - \\theta_{4} \\right)} - 125.0 \\cos{\\left(\\theta_{1} - \\theta_{4} \\right)}\\right) + 446.72131147541 V_{4} + V_{5} \\left(- 81.9672131147541 \\sin{\\left(\\theta_{4} - \\theta_{5} \\right)} - 98.3606557377049 \\cos{\\left(\\theta_{4} - \\theta_{5} \\right)}\\right) & V_{4} \\left(- 81.9672131147541 \\sin{\\left(\\theta_{4} - \\theta_{5} \\right)} - 98.3606557377049 \\cos{\\left(\\theta_{4} - \\theta_{5} \\right)}\\right)\\\\0 & 0 & 0 & 0 & 0 & V_{4} V_{5} \\cdot \\left(98.3606557377049 \\sin{\\left(\\theta_{4} - \\theta_{5} \\right)} + 81.9672131147541 \\cos{\\left(\\theta_{4} - \\theta_{5} \\right)}\\right) & V_{4} V_{5} \\left(- 98.3606557377049 \\sin{\\left(\\theta_{4} - \\theta_{5} \\right)} - 81.9672131147541 \\cos{\\left(\\theta_{4} - \\theta_{5} \\right)}\\right) & 0 & 0 & 0 & V_{5} \\cdot \\left(81.9672131147541 \\sin{\\left(\\theta_{4} - \\theta_{5} \\right)} - 98.3606557377049 \\cos{\\left(\\theta_{4} - \\theta_{5} \\right)}\\right) & V_{4} \\cdot \\left(81.9672131147541 \\sin{\\left(\\theta_{4} - \\theta_{5} \\right)} - 98.3606557377049 \\cos{\\left(\\theta_{4} - \\theta_{5} \\right)}\\right) + 196.72131147541 V_{5}\\end{array}\\right]$"
      ],
      "text/plain": [
       "Matrix([\n",
       "[-1,  0,                                                                                                                                                           V1*(48.0*sin(theta1) - 64.0*cos(theta1)),                                                                                                                                                                              0,                                                                                      0,                                                                                                                                                        0,                                                                                      0,                                                                                                                                                                            -64.0*sin(theta1) - 48.0*cos(theta1),                                                                                                                                                                                              0,                                                                                                         0,                                                                                                                                                                        0,                                                                                                         0],\n",
       "[ 0,  0, V1*V2*(43.2432432432432*sin(theta1 - theta2) + 59.4594594594595*cos(theta1 - theta2)) + V1*V4*(125.0*sin(theta1 - theta4) + 125.0*cos(theta1 - theta4)) + V1*(48.0*sin(theta1) + 64.0*cos(theta1)),                                                                                         V1*V2*(-43.2432432432432*sin(theta1 - theta2) - 59.4594594594595*cos(theta1 - theta2)),                                                                                      0,                                                                                         V1*V4*(-125.0*sin(theta1 - theta4) - 125.0*cos(theta1 - theta4)),                                                                                      0,   432.486486486486*V1 + V2*(59.4594594594595*sin(theta1 - theta2) - 43.2432432432432*cos(theta1 - theta2)) + V4*(125.0*sin(theta1 - theta4) - 125.0*cos(theta1 - theta4)) + 64.0*sin(theta1) - 48.0*cos(theta1),                                                                                                             V1*(59.4594594594595*sin(theta1 - theta2) - 43.2432432432432*cos(theta1 - theta2)),                                                                                                         0,                                                                                                             V1*(125.0*sin(theta1 - theta4) - 125.0*cos(theta1 - theta4)),                                                                                                         0],\n",
       "[ 0,  0,                                                                                                              V1*V2*(43.2432432432432*sin(theta1 - theta2) - 59.4594594594595*cos(theta1 - theta2)), V1*V2*(-43.2432432432432*sin(theta1 - theta2) + 59.4594594594595*cos(theta1 - theta2)) + V2*V3*(22.2222222222222*sin(theta2 - theta3) + 44.4444444444444*cos(theta2 - theta3)), V2*V3*(-22.2222222222222*sin(theta2 - theta3) - 44.4444444444444*cos(theta2 - theta3)),                                                                                                                                                        0,                                                                                      0,                                                                                                                             V2*(-59.4594594594595*sin(theta1 - theta2) - 43.2432432432432*cos(theta1 - theta2)), V1*(-59.4594594594595*sin(theta1 - theta2) - 43.2432432432432*cos(theta1 - theta2)) + 130.930930930931*V2 + V3*(44.4444444444444*sin(theta2 - theta3) - 22.2222222222222*cos(theta2 - theta3)),                        V2*(44.4444444444444*sin(theta2 - theta3) - 22.2222222222222*cos(theta2 - theta3)),                                                                                                                                                                        0,                                                                                                         0],\n",
       "[ 0,  0,                                                                                                                                                                                                  0,                                                                                          V2*V3*(22.2222222222222*sin(theta2 - theta3) - 44.4444444444444*cos(theta2 - theta3)), V2*V3*(-22.2222222222222*sin(theta2 - theta3) + 44.4444444444444*cos(theta2 - theta3)),                                                                                                                                                        0,                                                                                      0,                                                                                                                                                                                                               0,                                                                                                            V3*(-44.4444444444444*sin(theta2 - theta3) - 22.2222222222222*cos(theta2 - theta3)), V2*(-44.4444444444444*sin(theta2 - theta3) - 22.2222222222222*cos(theta2 - theta3)) + 44.4444444444444*V3,                                                                                                                                                                        0,                                                                                                         0],\n",
       "[ 0,  0,                                                                                                                                    V1*V4*(125.0*sin(theta1 - theta4) - 125.0*cos(theta1 - theta4)),                                                                                                                                                                              0,                                                                                      0, V1*V4*(-125.0*sin(theta1 - theta4) + 125.0*cos(theta1 - theta4)) + V4*V5*(81.9672131147541*sin(theta4 - theta5) + 98.3606557377049*cos(theta4 - theta5)), V4*V5*(-81.9672131147541*sin(theta4 - theta5) - 98.3606557377049*cos(theta4 - theta5)),                                                                                                                                                   V4*(-125.0*sin(theta1 - theta4) - 125.0*cos(theta1 - theta4)),                                                                                                                                                                                              0,                                                                                                         0, V1*(-125.0*sin(theta1 - theta4) - 125.0*cos(theta1 - theta4)) + 413.934426229508*V4 + V5*(98.3606557377049*sin(theta4 - theta5) - 81.9672131147541*cos(theta4 - theta5)),                        V4*(98.3606557377049*sin(theta4 - theta5) - 81.9672131147541*cos(theta4 - theta5))],\n",
       "[ 0,  0,                                                                                                                                                                                                  0,                                                                                                                                                                              0,                                                                                      0,                                                                    V4*V5*(81.9672131147541*sin(theta4 - theta5) - 98.3606557377049*cos(theta4 - theta5)), V4*V5*(-81.9672131147541*sin(theta4 - theta5) + 98.3606557377049*cos(theta4 - theta5)),                                                                                                                                                                                                               0,                                                                                                                                                                                              0,                                                                                                         0,                                                                                      V5*(-98.3606557377049*sin(theta4 - theta5) - 81.9672131147541*cos(theta4 - theta5)), V4*(-98.3606557377049*sin(theta4 - theta5) - 81.9672131147541*cos(theta4 - theta5)) + 163.934426229508*V5],\n",
       "[ 0, -1,                                                                                                                                                           V1*(64.0*sin(theta1) + 48.0*cos(theta1)),                                                                                                                                                                              0,                                                                                      0,                                                                                                                                                        0,                                                                                      0,                                                                                                                                                                             48.0*sin(theta1) - 64.0*cos(theta1),                                                                                                                                                                                              0,                                                                                                         0,                                                                                                                                                                        0,                                                                                                         0],\n",
       "[ 0,  0, V1*V2*(59.4594594594595*sin(theta1 - theta2) - 43.2432432432432*cos(theta1 - theta2)) + V1*V4*(125.0*sin(theta1 - theta4) - 125.0*cos(theta1 - theta4)) + V1*(64.0*sin(theta1) - 48.0*cos(theta1)),                                                                                         V1*V2*(-59.4594594594595*sin(theta1 - theta2) + 43.2432432432432*cos(theta1 - theta2)),                                                                                      0,                                                                                         V1*V4*(-125.0*sin(theta1 - theta4) + 125.0*cos(theta1 - theta4)),                                                                                      0, 496.918918918919*V1 + V2*(-43.2432432432432*sin(theta1 - theta2) - 59.4594594594595*cos(theta1 - theta2)) + V4*(-125.0*sin(theta1 - theta4) - 125.0*cos(theta1 - theta4)) - 48.0*sin(theta1) - 64.0*cos(theta1),                                                                                                            V1*(-43.2432432432432*sin(theta1 - theta2) - 59.4594594594595*cos(theta1 - theta2)),                                                                                                         0,                                                                                                            V1*(-125.0*sin(theta1 - theta4) - 125.0*cos(theta1 - theta4)),                                                                                                         0],\n",
       "[ 0,  0,                                                                                                              V1*V2*(59.4594594594595*sin(theta1 - theta2) + 43.2432432432432*cos(theta1 - theta2)), V1*V2*(-59.4594594594595*sin(theta1 - theta2) - 43.2432432432432*cos(theta1 - theta2)) + V2*V3*(44.4444444444444*sin(theta2 - theta3) - 22.2222222222222*cos(theta2 - theta3)), V2*V3*(-44.4444444444444*sin(theta2 - theta3) + 22.2222222222222*cos(theta2 - theta3)),                                                                                                                                                        0,                                                                                      0,                                                                                                                              V2*(43.2432432432432*sin(theta1 - theta2) - 59.4594594594595*cos(theta1 - theta2)), V1*(43.2432432432432*sin(theta1 - theta2) - 59.4594594594595*cos(theta1 - theta2)) + 207.807807807808*V2 + V3*(-22.2222222222222*sin(theta2 - theta3) - 44.4444444444444*cos(theta2 - theta3)),                       V2*(-22.2222222222222*sin(theta2 - theta3) - 44.4444444444444*cos(theta2 - theta3)),                                                                                                                                                                        0,                                                                                                         0],\n",
       "[ 0,  0,                                                                                                                                                                                                  0,                                                                                          V2*V3*(44.4444444444444*sin(theta2 - theta3) + 22.2222222222222*cos(theta2 - theta3)), V2*V3*(-44.4444444444444*sin(theta2 - theta3) - 22.2222222222222*cos(theta2 - theta3)),                                                                                                                                                        0,                                                                                      0,                                                                                                                                                                                                               0,                                                                                                             V3*(22.2222222222222*sin(theta2 - theta3) - 44.4444444444444*cos(theta2 - theta3)),  V2*(22.2222222222222*sin(theta2 - theta3) - 44.4444444444444*cos(theta2 - theta3)) + 88.8888888888889*V3,                                                                                                                                                                        0,                                                                                                         0],\n",
       "[ 0,  0,                                                                                                                                    V1*V4*(125.0*sin(theta1 - theta4) + 125.0*cos(theta1 - theta4)),                                                                                                                                                                              0,                                                                                      0, V1*V4*(-125.0*sin(theta1 - theta4) - 125.0*cos(theta1 - theta4)) + V4*V5*(98.3606557377049*sin(theta4 - theta5) - 81.9672131147541*cos(theta4 - theta5)), V4*V5*(-98.3606557377049*sin(theta4 - theta5) + 81.9672131147541*cos(theta4 - theta5)),                                                                                                                                                    V4*(125.0*sin(theta1 - theta4) - 125.0*cos(theta1 - theta4)),                                                                                                                                                                                              0,                                                                                                         0,  V1*(125.0*sin(theta1 - theta4) - 125.0*cos(theta1 - theta4)) + 446.72131147541*V4 + V5*(-81.9672131147541*sin(theta4 - theta5) - 98.3606557377049*cos(theta4 - theta5)),                       V4*(-81.9672131147541*sin(theta4 - theta5) - 98.3606557377049*cos(theta4 - theta5))],\n",
       "[ 0,  0,                                                                                                                                                                                                  0,                                                                                                                                                                              0,                                                                                      0,                                                                    V4*V5*(98.3606557377049*sin(theta4 - theta5) + 81.9672131147541*cos(theta4 - theta5)), V4*V5*(-98.3606557377049*sin(theta4 - theta5) - 81.9672131147541*cos(theta4 - theta5)),                                                                                                                                                                                                               0,                                                                                                                                                                                              0,                                                                                                         0,                                                                                       V5*(81.9672131147541*sin(theta4 - theta5) - 98.3606557377049*cos(theta4 - theta5)),   V4*(81.9672131147541*sin(theta4 - theta5) - 98.3606557377049*cos(theta4 - theta5)) + 196.72131147541*V5]])"
      ]
     },
     "execution_count": 99,
     "metadata": {},
     "output_type": "execute_result"
    }
   ],
   "source": [
    "df"
   ]
  },
  {
   "cell_type": "code",
   "execution_count": 100,
   "metadata": {},
   "outputs": [],
   "source": [
    "dfcall = sp.lambdify(x, df, 'numpy')\n",
    "fcall = sp.lambdify(x, f, 'numpy')\n",
    "\n",
    "p0call = sp.lambdify(x, p_k(0), 'numpy')\n",
    "q0call = sp.lambdify(x, q_k(0), 'numpy')\n",
    "\n",
    "pcall = sp.lambdify(x, p, 'numpy') \n",
    "qcall = sp.lambdify(x, q, 'numpy') "
   ]
  },
  {
   "cell_type": "code",
   "execution_count": 101,
   "metadata": {},
   "outputs": [
    {
     "data": {
      "text/plain": [
       "(12, 1)"
      ]
     },
     "execution_count": 101,
     "metadata": {},
     "output_type": "execute_result"
    }
   ],
   "source": [
    "f.shape"
   ]
  },
  {
   "cell_type": "code",
   "execution_count": 105,
   "metadata": {},
   "outputs": [],
   "source": [
    "# Basic power flow equations\n",
    "# x0 = np.array([0]*(n-1) + [1] * (n-1))\n",
    "\n",
    "# With slack bus\n",
    "x0 = np.array([0]*(n) + [1] * (n))"
   ]
  },
  {
   "cell_type": "code",
   "execution_count": 106,
   "metadata": {},
   "outputs": [
    {
     "name": "stdout",
     "output_type": "stream",
     "text": [
      "Iteration 0: norm: 173.58802998018027\n",
      "Iteration 1: norm: 35.21926627916808\n",
      "Iteration 2: norm: 6.467067279039918\n",
      "Iteration 3: norm: 1.0288578553764385\n",
      "Iteration 4: norm: 0.08308278866360941\n",
      "Iteration 5: norm: 0.000518750223617371\n",
      "Iteration 6: norm: 4.76958805051579e-08\n",
      "Iteration 7: norm: 5.483320576654713e-15\n",
      "Iteration 8: norm: 5.4832542844389425e-15\n",
      "Iteration 9: norm: 8.230078114581984e-15\n",
      "Iteration 10: norm: 1.4957654554761465e-14\n"
     ]
    }
   ],
   "source": [
    "y = newton_raphson(fcall, dfcall, x0, verbose=True, niter=10)"
   ]
  },
  {
   "cell_type": "code",
   "execution_count": 107,
   "metadata": {},
   "outputs": [
    {
     "data": {
      "text/plain": [
       "array([ 2.88552010e+01,  3.19387243e+01, -1.05193439e-01, -1.58215588e-01,\n",
       "       -1.58215588e-01, -1.29415094e-01,  6.67728209e+00,  4.66778977e-01,\n",
       "        4.36574789e-01,  4.36574789e-01,  2.37883241e-01, -1.36845553e-48])"
      ]
     },
     "execution_count": 107,
     "metadata": {},
     "output_type": "execute_result"
    }
   ],
   "source": [
    "y"
   ]
  },
  {
   "cell_type": "code",
   "execution_count": 108,
   "metadata": {},
   "outputs": [
    {
     "data": {
      "text/plain": [
       "array([-0.02933611, -0.04129665, -0.04129665, -0.03642905, -0.03642905,\n",
       "        0.95715405,  0.94341181,  0.94341181,  0.94270338,  0.94270338])"
      ]
     },
     "execution_count": 108,
     "metadata": {},
     "output_type": "execute_result"
    }
   ],
   "source": [
    "y_fixed = np.concatenate((np.angle(VT)[1:], np.abs(VT)[1:]), axis=0)\n",
    "y_fixed"
   ]
  },
  {
   "cell_type": "code",
   "execution_count": 109,
   "metadata": {},
   "outputs": [
    {
     "data": {
      "text/plain": [
       "array([[ 0.00000000e+00],\n",
       "       [ 0.00000000e+00],\n",
       "       [ 6.66133815e-16],\n",
       "       [ 0.00000000e+00],\n",
       "       [-1.77635684e-15],\n",
       "       [ 7.10192553e-48],\n",
       "       [-1.42108547e-14],\n",
       "       [ 3.55271368e-15],\n",
       "       [ 1.05471187e-15],\n",
       "       [ 0.00000000e+00],\n",
       "       [-2.10942375e-15],\n",
       "       [ 4.10706747e-47]])"
      ]
     },
     "execution_count": 109,
     "metadata": {},
     "output_type": "execute_result"
    }
   ],
   "source": [
    "fcall(*y)"
   ]
  },
  {
   "cell_type": "code",
   "execution_count": 110,
   "metadata": {},
   "outputs": [
    {
     "ename": "TypeError",
     "evalue": "_lambdifygenerated() missing 2 required positional arguments: 'V4' and 'V5'",
     "output_type": "error",
     "traceback": [
      "\u001b[1;31m---------------------------------------------------------------------------\u001b[0m",
      "\u001b[1;31mTypeError\u001b[0m                                 Traceback (most recent call last)",
      "\u001b[1;32mc:\\Users\\User\\Documents\\Projects\\008 Courses\\Training\\AC Optimal Power Flow\\01 basic power flow.ipynb Cell 38\u001b[0m line \u001b[0;36m1\n\u001b[1;32m----> <a href='vscode-notebook-cell:/c%3A/Users/User/Documents/Projects/008%20Courses/Training/AC%20Optimal%20Power%20Flow/01%20basic%20power%20flow.ipynb#Y155sZmlsZQ%3D%3D?line=0'>1</a>\u001b[0m fcall(\u001b[39m*\u001b[39;49my_fixed)\n",
      "\u001b[1;31mTypeError\u001b[0m: _lambdifygenerated() missing 2 required positional arguments: 'V4' and 'V5'"
     ]
    }
   ],
   "source": [
    "fcall(*y_fixed)"
   ]
  },
  {
   "cell_type": "code",
   "execution_count": 75,
   "metadata": {},
   "outputs": [
    {
     "data": {
      "text/plain": [
       "array([ 3.87318313e+00+1.42089149e+00j, -1.23992091e-14+4.11873455e-14j,\n",
       "       -1.20000000e+00-3.00000000e-01j,  0.00000000e+00-0.00000000e+00j,\n",
       "       -2.50000000e+00-9.00000000e-01j, -1.46375481e-15-4.01631976e-14j])"
      ]
     },
     "execution_count": 75,
     "metadata": {},
     "output_type": "execute_result"
    }
   ],
   "source": [
    "VT*np.conj(Ybus@VT)"
   ]
  },
  {
   "cell_type": "code",
   "execution_count": 76,
   "metadata": {},
   "outputs": [
    {
     "data": {
      "text/plain": [
       "array([[ 3.87318313e+00],\n",
       "       [-7.10542736e-15],\n",
       "       [-1.20000000e+00],\n",
       "       [ 0.00000000e+00],\n",
       "       [-2.50000000e+00],\n",
       "       [ 0.00000000e+00]])"
      ]
     },
     "execution_count": 76,
     "metadata": {},
     "output_type": "execute_result"
    }
   ],
   "source": [
    "pcall(*y)"
   ]
  },
  {
   "cell_type": "code",
   "execution_count": 79,
   "metadata": {},
   "outputs": [
    {
     "data": {
      "text/plain": [
       "array([[ 1.42089149e+00],\n",
       "       [-7.10542736e-15],\n",
       "       [-3.00000000e-01],\n",
       "       [ 0.00000000e+00],\n",
       "       [-9.00000000e-01],\n",
       "       [ 0.00000000e+00]])"
      ]
     },
     "execution_count": 79,
     "metadata": {},
     "output_type": "execute_result"
    }
   ],
   "source": [
    "qcall(*y)"
   ]
  },
  {
   "cell_type": "code",
   "execution_count": 78,
   "metadata": {},
   "outputs": [
    {
     "data": {
      "text/plain": [
       "array([[ 3.87318313e+00],\n",
       "       [-1.63424829e-13],\n",
       "       [-1.20000000e+00],\n",
       "       [ 0.00000000e+00],\n",
       "       [-2.50000000e+00],\n",
       "       [ 0.00000000e+00]])"
      ]
     },
     "execution_count": 78,
     "metadata": {},
     "output_type": "execute_result"
    }
   ],
   "source": [
    "pcall(*y_fixed)"
   ]
  },
  {
   "cell_type": "code",
   "execution_count": 80,
   "metadata": {},
   "outputs": [
    {
     "ename": "AttributeError",
     "evalue": "'list' object has no attribute 'nodes'",
     "output_type": "error",
     "traceback": [
      "\u001b[1;31m---------------------------------------------------------------------------\u001b[0m",
      "\u001b[1;31mAttributeError\u001b[0m                            Traceback (most recent call last)",
      "\u001b[1;32mc:\\Users\\User\\Documents\\Projects\\008 Courses\\Training\\AC Optimal Power Flow\\01 basic power flow.ipynb Cell 42\u001b[0m line \u001b[0;36m2\n\u001b[0;32m      <a href='vscode-notebook-cell:/c%3A/Users/User/Documents/Projects/008%20Courses/Training/AC%20Optimal%20Power%20Flow/01%20basic%20power%20flow.ipynb#Y160sZmlsZQ%3D%3D?line=0'>1</a>\u001b[0m results_nr \u001b[39m=\u001b[39m pd\u001b[39m.\u001b[39mDataFrame()\n\u001b[1;32m----> <a href='vscode-notebook-cell:/c%3A/Users/User/Documents/Projects/008%20Courses/Training/AC%20Optimal%20Power%20Flow/01%20basic%20power%20flow.ipynb#Y160sZmlsZQ%3D%3D?line=1'>2</a>\u001b[0m results_nr[\u001b[39m'\u001b[39m\u001b[39mname\u001b[39m\u001b[39m'\u001b[39m] \u001b[39m=\u001b[39m [G\u001b[39m.\u001b[39mnodes[k][\u001b[39m'\u001b[39m\u001b[39mname\u001b[39m\u001b[39m'\u001b[39m] \u001b[39mfor\u001b[39;00m k \u001b[39min\u001b[39;00m G\u001b[39m.\u001b[39;49mnodes]\n\u001b[0;32m      <a href='vscode-notebook-cell:/c%3A/Users/User/Documents/Projects/008%20Courses/Training/AC%20Optimal%20Power%20Flow/01%20basic%20power%20flow.ipynb#Y160sZmlsZQ%3D%3D?line=2'>3</a>\u001b[0m results_nr[\u001b[39m'\u001b[39m\u001b[39mvpu\u001b[39m\u001b[39m'\u001b[39m] \u001b[39m=\u001b[39m [\u001b[39m1\u001b[39m] \u001b[39m+\u001b[39m y[\u001b[39m5\u001b[39m:]\n\u001b[0;32m      <a href='vscode-notebook-cell:/c%3A/Users/User/Documents/Projects/008%20Courses/Training/AC%20Optimal%20Power%20Flow/01%20basic%20power%20flow.ipynb#Y160sZmlsZQ%3D%3D?line=3'>4</a>\u001b[0m results_nr[\u001b[39m'\u001b[39m\u001b[39mang\u001b[39m\u001b[39m'\u001b[39m] \u001b[39m=\u001b[39m [\u001b[39m0\u001b[39m] \u001b[39m+\u001b[39m y[:\u001b[39m5\u001b[39m]\n",
      "\u001b[1;31mAttributeError\u001b[0m: 'list' object has no attribute 'nodes'"
     ]
    }
   ],
   "source": [
    "results_nr = pd.DataFrame()\n",
    "results_nr['name'] = [G.nodes[k]['name'] for k in G.nodes]\n",
    "results_nr['vpu'] = [1] + y[5:]\n",
    "results_nr['ang'] = [0] + y[:5]\n",
    "results_nr['pnode'] = [p0call(y)] \n",
    "results_nr['qnode'] = np.round(ST.imag,4)\n",
    "results_nr"
   ]
  },
  {
   "cell_type": "code",
   "execution_count": null,
   "metadata": {},
   "outputs": [],
   "source": []
  }
 ],
 "metadata": {
  "kernelspec": {
   "display_name": "opt",
   "language": "python",
   "name": "python3"
  },
  "language_info": {
   "codemirror_mode": {
    "name": "ipython",
    "version": 3
   },
   "file_extension": ".py",
   "mimetype": "text/x-python",
   "name": "python",
   "nbconvert_exporter": "python",
   "pygments_lexer": "ipython3",
   "version": "3.11.5"
  },
  "orig_nbformat": 4
 },
 "nbformat": 4,
 "nbformat_minor": 2
}
