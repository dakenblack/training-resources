{
 "cells": [
  {
   "cell_type": "markdown",
   "metadata": {},
   "source": [
    "# Basic Power Flow Analysis and OPF\n",
    "\n",
    "See Section 10.1 of 000421"
   ]
  },
  {
   "cell_type": "code",
   "execution_count": 26,
   "metadata": {},
   "outputs": [],
   "source": [
    "import numpy as np\n",
    "import networkx as nx\n",
    "import pandas as pd"
   ]
  },
  {
   "cell_type": "markdown",
   "metadata": {},
   "source": [
    "## Network creation"
   ]
  },
  {
   "cell_type": "code",
   "execution_count": 4,
   "metadata": {},
   "outputs": [],
   "source": [
    "# Create graph\n",
    "G = nx.DiGraph()\n",
    "\n",
    "# Nodes with max set point and complex demand\n",
    "G.add_node(0,name='slack',smax=10,d=0)\n",
    "G.add_node(1,name='step',smax=0,d=0)\n",
    "G.add_node(2,name='house',smax=0,d=1.2+0.3j)\n",
    "G.add_node(3,name='solar',smax=1,d=0)\n",
    "G.add_node(4,name='building',smax=0,d=2.5+0.9j)\n",
    "G.add_node(5,name='wind',smax=1.5,d=0)\n",
    "\n",
    "# Edges with admittance\n",
    "G.add_edge(0,1,y=1/(0.0075+0.010j),thlim=2)\n",
    "G.add_edge(1,2,y=1/(0.0080+0.011j),thlim=2)\n",
    "G.add_edge(2,3,y=1/(0.0090+0.018j),thlim=2)\n",
    "G.add_edge(1,4,y=1/(0.0040+0.004j),thlim=2)\n",
    "G.add_edge(4,5,y=1/(0.0050+0.006j),thlim=2)"
   ]
  },
  {
   "cell_type": "code",
   "execution_count": 3,
   "metadata": {},
   "outputs": [
    {
     "data": {
      "image/png": "[encoded data removed]",
      "text/plain": [
       "<Figure size 640x480 with 1 Axes>"
      ]
     },
     "metadata": {},
     "output_type": "display_data"
    }
   ],
   "source": [
    "nx.draw(G,with_labels=True,pos=nx.spectral_layout(G))"
   ]
  },
  {
   "cell_type": "markdown",
   "metadata": {},
   "source": [
    "## Admittance matrix"
   ]
  },
  {
   "cell_type": "code",
   "execution_count": 6,
   "metadata": {},
   "outputs": [],
   "source": [
    "A = nx.incidence_matrix(G, oriented=True)\n",
    "Yp = np.diag([G.edges[k][\"y\"] for k in G.edges])\n",
    "Ybus = A @ Yp @ A.T"
   ]
  },
  {
   "cell_type": "code",
   "execution_count": 20,
   "metadata": {},
   "outputs": [
    {
     "name": "stdout",
     "output_type": "stream",
     "text": [
      "[[ 48.         -64.j           0.          +0.j\n",
      "    0.          +0.j           0.          +0.j\n",
      "    0.          +0.j        ]\n",
      " [  0.          +0.j          43.24324324 -59.45945946j\n",
      "    0.          +0.j           0.          +0.j\n",
      "    0.          +0.j        ]\n",
      " [  0.          +0.j           0.          +0.j\n",
      "  125.        -125.j           0.          +0.j\n",
      "    0.          +0.j        ]\n",
      " [  0.          +0.j           0.          +0.j\n",
      "    0.          +0.j          22.22222222 -44.44444444j\n",
      "    0.          +0.j        ]\n",
      " [  0.          +0.j           0.          +0.j\n",
      "    0.          +0.j           0.          +0.j\n",
      "   81.96721311 -98.36065574j]]\n",
      "(5, 5)\n"
     ]
    }
   ],
   "source": [
    "# Admittances on edges?\n",
    "print(Yp)\n",
    "print(Yp.shape)"
   ]
  },
  {
   "cell_type": "code",
   "execution_count": 21,
   "metadata": {},
   "outputs": [
    {
     "name": "stdout",
     "output_type": "stream",
     "text": [
      "  (0, 0)\t-1.0\n",
      "  (1, 0)\t1.0\n",
      "  (1, 1)\t-1.0\n",
      "  (2, 1)\t1.0\n",
      "  (1, 2)\t-1.0\n",
      "  (4, 2)\t1.0\n",
      "  (2, 3)\t-1.0\n",
      "  (3, 3)\t1.0\n",
      "  (4, 4)\t-1.0\n",
      "  (5, 4)\t1.0\n",
      "(6, 5)\n"
     ]
    }
   ],
   "source": [
    "print(A)\n",
    "print(A.shape)"
   ]
  },
  {
   "cell_type": "code",
   "execution_count": 15,
   "metadata": {},
   "outputs": [
    {
     "name": "stdout",
     "output_type": "stream",
     "text": [
      "[[  48.         -64.j          -48.         +64.j\n",
      "     0.          +0.j            0.          +0.j\n",
      "     0.          +0.j            0.          +0.j        ]\n",
      " [ -48.         +64.j          216.24324324-248.45945946j\n",
      "   -43.24324324 +59.45945946j    0.          +0.j\n",
      "  -125.        +125.j            0.          +0.j        ]\n",
      " [   0.          +0.j          -43.24324324 +59.45945946j\n",
      "    65.46546547-103.9039039j   -22.22222222 +44.44444444j\n",
      "     0.          +0.j            0.          +0.j        ]\n",
      " [   0.          +0.j            0.          +0.j\n",
      "   -22.22222222 +44.44444444j   22.22222222 -44.44444444j\n",
      "     0.          +0.j            0.          +0.j        ]\n",
      " [   0.          +0.j         -125.        +125.j\n",
      "     0.          +0.j            0.          +0.j\n",
      "   206.96721311-223.36065574j  -81.96721311 +98.36065574j]\n",
      " [   0.          +0.j            0.          +0.j\n",
      "     0.          +0.j            0.          +0.j\n",
      "   -81.96721311 +98.36065574j   81.96721311 -98.36065574j]]\n"
     ]
    }
   ],
   "source": [
    "print(Ybus)"
   ]
  },
  {
   "cell_type": "code",
   "execution_count": 16,
   "metadata": {},
   "outputs": [
    {
     "name": "stdout",
     "output_type": "stream",
     "text": [
      "[ 3.55850779e+02  1.53742122e+02  6.95171530e+01  4.52945499e+01\n",
      " -4.32319948e-15  1.64607529e+01]\n"
     ]
    }
   ],
   "source": [
    "# positive semidefinite if has non-negative eigenvalues?\n",
    "# Confirm this\n",
    "print(np.linalg.eigvals(Ybus.real))"
   ]
  },
  {
   "cell_type": "markdown",
   "metadata": {},
   "source": [
    "## Block matrices"
   ]
  },
  {
   "cell_type": "code",
   "execution_count": 17,
   "metadata": {},
   "outputs": [
    {
     "name": "stdout",
     "output_type": "stream",
     "text": [
      "[-48.+64.j   0. +0.j   0. +0.j   0. +0.j   0. +0.j]\n",
      "[[ 216.24324324-248.45945946j  -43.24324324 +59.45945946j\n",
      "     0.          +0.j         -125.        +125.j\n",
      "     0.          +0.j        ]\n",
      " [ -43.24324324 +59.45945946j   65.46546547-103.9039039j\n",
      "   -22.22222222 +44.44444444j    0.          +0.j\n",
      "     0.          +0.j        ]\n",
      " [   0.          +0.j          -22.22222222 +44.44444444j\n",
      "    22.22222222 -44.44444444j    0.          +0.j\n",
      "     0.          +0.j        ]\n",
      " [-125.        +125.j            0.          +0.j\n",
      "     0.          +0.j          206.96721311-223.36065574j\n",
      "   -81.96721311 +98.36065574j]\n",
      " [   0.          +0.j            0.          +0.j\n",
      "     0.          +0.j          -81.96721311 +98.36065574j\n",
      "    81.96721311 -98.36065574j]]\n"
     ]
    }
   ],
   "source": [
    "n = G.number_of_nodes()\n",
    "YN0 = Ybus[1:n,0]\n",
    "YNN = Ybus[1:n,1:n]\n",
    "ZNN = np.linalg.inv(YNN)\n",
    "d = np.array([G.nodes[k]['d'] for k in G.nodes])\n",
    "print(YN0)\n",
    "print(YNN)"
   ]
  },
  {
   "cell_type": "markdown",
   "metadata": {},
   "source": [
    "## Fixed point algorithm"
   ]
  },
  {
   "cell_type": "code",
   "execution_count": 23,
   "metadata": {},
   "outputs": [],
   "source": [
    "def LoadFlow(sN,dN):\n",
    "    v0 = 1+0j\n",
    "    vN = np.ones(n-1)*v0\n",
    "    for t in range(10):\n",
    "        vN = ZNN@(np.conj((sN-dN)/vN)-v0*YN0)\n",
    "        vT = np.hstack([v0,vN]);\n",
    "        sT = vT*np.conj(Ybus@vT)\n",
    "        err = np.linalg.norm(sT[1:n]-(sN-dN))\n",
    "    print('Load Flow, after 10 iterations the error is',err)\n",
    "    return vT"
   ]
  },
  {
   "cell_type": "code",
   "execution_count": 25,
   "metadata": {},
   "outputs": [
    {
     "name": "stdout",
     "output_type": "stream",
     "text": [
      "Load Flow, after 10 iterations the error is 9.833373286846192e-12\n",
      "Loss (0.1731831335272755+0.22089148762912691j)\n",
      "flow (0, 1) 4.125588467764153\n",
      "flow (1, 2) 1.3111259268831168\n",
      "flow (1, 4) 2.8185600232227275\n",
      "flow (2, 3) 1.111935011801867e-14\n",
      "flow (4, 5) 3.3525890660699923e-14\n"
     ]
    }
   ],
   "source": [
    "VT = LoadFlow(np.zeros(n-1),d[1:n])\n",
    "ST = VT*np.conj(Ybus@VT)\n",
    "pL = sum(ST)\n",
    "print('Loss',pL)\n",
    "for (k,m) in G.edges:\n",
    "    Sf = Ybus[k,m]*(VT[k]-VT[m])\n",
    "    print('flow',(k,m),np.abs(Sf))"
   ]
  },
  {
   "cell_type": "code",
   "execution_count": 31,
   "metadata": {},
   "outputs": [
    {
     "data": {
      "text/plain": [
       "(0.1731831335272755+0.22089148762912691j)"
      ]
     },
     "execution_count": 31,
     "metadata": {},
     "output_type": "execute_result"
    }
   ],
   "source": [
    "sum(ST)"
   ]
  },
  {
   "cell_type": "code",
   "execution_count": 27,
   "metadata": {},
   "outputs": [
    {
     "data": {
      "text/html": [
       "<div>\n",
       "<style scoped>\n",
       "    .dataframe tbody tr th:only-of-type {\n",
       "        vertical-align: middle;\n",
       "    }\n",
       "\n",
       "    .dataframe tbody tr th {\n",
       "        vertical-align: top;\n",
       "    }\n",
       "\n",
       "    .dataframe thead th {\n",
       "        text-align: right;\n",
       "    }\n",
       "</style>\n",
       "<table border=\"1\" class=\"dataframe\">\n",
       "  <thead>\n",
       "    <tr style=\"text-align: right;\">\n",
       "      <th></th>\n",
       "      <th>name</th>\n",
       "      <th>vpu</th>\n",
       "      <th>ang</th>\n",
       "      <th>pnode</th>\n",
       "      <th>qnode</th>\n",
       "    </tr>\n",
       "  </thead>\n",
       "  <tbody>\n",
       "    <tr>\n",
       "      <th>0</th>\n",
       "      <td>slack</td>\n",
       "      <td>1.000000</td>\n",
       "      <td>0.000000</td>\n",
       "      <td>3.8732</td>\n",
       "      <td>1.4209</td>\n",
       "    </tr>\n",
       "    <tr>\n",
       "      <th>1</th>\n",
       "      <td>step</td>\n",
       "      <td>0.957154</td>\n",
       "      <td>-1.680835</td>\n",
       "      <td>0.0000</td>\n",
       "      <td>0.0000</td>\n",
       "    </tr>\n",
       "    <tr>\n",
       "      <th>2</th>\n",
       "      <td>house</td>\n",
       "      <td>0.943412</td>\n",
       "      <td>-2.366124</td>\n",
       "      <td>-1.2000</td>\n",
       "      <td>-0.3000</td>\n",
       "    </tr>\n",
       "    <tr>\n",
       "      <th>3</th>\n",
       "      <td>solar</td>\n",
       "      <td>0.943412</td>\n",
       "      <td>-2.366124</td>\n",
       "      <td>0.0000</td>\n",
       "      <td>0.0000</td>\n",
       "    </tr>\n",
       "    <tr>\n",
       "      <th>4</th>\n",
       "      <td>building</td>\n",
       "      <td>0.942703</td>\n",
       "      <td>-2.087231</td>\n",
       "      <td>-2.5000</td>\n",
       "      <td>-0.9000</td>\n",
       "    </tr>\n",
       "    <tr>\n",
       "      <th>5</th>\n",
       "      <td>wind</td>\n",
       "      <td>0.942703</td>\n",
       "      <td>-2.087231</td>\n",
       "      <td>-0.0000</td>\n",
       "      <td>-0.0000</td>\n",
       "    </tr>\n",
       "  </tbody>\n",
       "</table>\n",
       "</div>"
      ],
      "text/plain": [
       "       name       vpu       ang   pnode   qnode\n",
       "0     slack  1.000000  0.000000  3.8732  1.4209\n",
       "1      step  0.957154 -1.680835  0.0000  0.0000\n",
       "2     house  0.943412 -2.366124 -1.2000 -0.3000\n",
       "3     solar  0.943412 -2.366124  0.0000  0.0000\n",
       "4  building  0.942703 -2.087231 -2.5000 -0.9000\n",
       "5      wind  0.942703 -2.087231 -0.0000 -0.0000"
      ]
     },
     "execution_count": 27,
     "metadata": {},
     "output_type": "execute_result"
    }
   ],
   "source": [
    "results = pd.DataFrame()\n",
    "results['name'] = [G.nodes[k]['name'] for k in G.nodes]\n",
    "results['vpu'] = np.abs(VT)\n",
    "results['ang'] = np.angle(VT)*180/np.pi\n",
    "results['pnode'] = np.round(ST.real,4)\n",
    "results['qnode'] = np.round(ST.imag,4)\n",
    "results.head(n)"
   ]
  },
  {
   "cell_type": "code",
   "execution_count": null,
   "metadata": {},
   "outputs": [],
   "source": []
  }
 ],
 "metadata": {
  "kernelspec": {
   "display_name": "opt",
   "language": "python",
   "name": "python3"
  },
  "language_info": {
   "codemirror_mode": {
    "name": "ipython",
    "version": 3
   },
   "file_extension": ".py",
   "mimetype": "text/x-python",
   "name": "python",
   "nbconvert_exporter": "python",
   "pygments_lexer": "ipython3",
   "version": "3.11.5"
  },
  "orig_nbformat": 4
 },
 "nbformat": 4,
 "nbformat_minor": 2
}
