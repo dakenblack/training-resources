{
 "cells": [
  {
   "cell_type": "markdown",
   "metadata": {},
   "source": [
    "# Newton Raphson"
   ]
  },
  {
   "cell_type": "code",
   "execution_count": 31,
   "metadata": {},
   "outputs": [],
   "source": [
    "import numpy as np\n",
    "import matplotlib.pyplot as plt\n",
    "from scipy import optimize\n",
    "import scipy.linalg as la"
   ]
  },
  {
   "cell_type": "code",
   "execution_count": 32,
   "metadata": {},
   "outputs": [],
   "source": [
    "def f(x):\n",
    "    # return (x ** 3 - 1)\n",
    "    return np.cos(x) - 2 * (x ** 3)\n",
    "\n",
    "def df(x):\n",
    "    # return (3*x**2)\n",
    "    return -np.sin(x) - 6*x**2"
   ]
  },
  {
   "cell_type": "code",
   "execution_count": 33,
   "metadata": {},
   "outputs": [],
   "source": [
    "x0 = 1.355"
   ]
  },
  {
   "cell_type": "code",
   "execution_count": 34,
   "metadata": {},
   "outputs": [
    {
     "data": {
      "text/plain": [
       "0.721406032674848"
      ]
     },
     "execution_count": 34,
     "metadata": {},
     "output_type": "execute_result"
    }
   ],
   "source": [
    "root = optimize.newton(f, 1.355, fprime=df)\n",
    "root"
   ]
  },
  {
   "cell_type": "code",
   "execution_count": 35,
   "metadata": {},
   "outputs": [
    {
     "data": {
      "text/plain": [
       "0.721406032674848"
      ]
     },
     "execution_count": 35,
     "metadata": {},
     "output_type": "execute_result"
    }
   ],
   "source": [
    "root = optimize.newton(f, 1.355)\n",
    "root"
   ]
  },
  {
   "cell_type": "code",
   "execution_count": 40,
   "metadata": {},
   "outputs": [
    {
     "name": "stdout",
     "output_type": "stream",
     "text": [
      "Iteration 0: norm: -4.761502396946432\n",
      "Iteration 1: norm: -1.18312103653192\n",
      "Iteration 2: norm: -0.19898945023554282\n",
      "Iteration 3: norm: -0.010670243611066721\n",
      "Iteration 4: norm: -3.6987290737089396e-05\n",
      "Iteration 5: norm: -4.496456540437066e-10\n",
      "Iteration 6: norm: -1.1102230246251565e-16\n",
      "Iteration 7: norm: -1.1102230246251565e-16\n",
      "Iteration 8: norm: -1.1102230246251565e-16\n",
      "Iteration 9: norm: -1.1102230246251565e-16\n",
      "Iteration 10: norm: -1.1102230246251565e-16\n",
      "0.721406032674848\n"
     ]
    }
   ],
   "source": [
    "y = x0\n",
    "fval = f(y)\n",
    "print(f'Iteration {0}: norm: {fval}')\n",
    "for i in range(10):\n",
    "    inc = fval / df(y)\n",
    "    y = y - inc\n",
    "    fval = f(y)\n",
    "    print(f'Iteration {i+1}: norm: {fval}')\n",
    "print(y)"
   ]
  },
  {
   "cell_type": "code",
   "execution_count": null,
   "metadata": {},
   "outputs": [],
   "source": []
  }
 ],
 "metadata": {
  "kernelspec": {
   "display_name": "opt",
   "language": "python",
   "name": "python3"
  },
  "language_info": {
   "codemirror_mode": {
    "name": "ipython",
    "version": 3
   },
   "file_extension": ".py",
   "mimetype": "text/x-python",
   "name": "python",
   "nbconvert_exporter": "python",
   "pygments_lexer": "ipython3",
   "version": "3.11.5"
  },
  "orig_nbformat": 4
 },
 "nbformat": 4,
 "nbformat_minor": 2
}
